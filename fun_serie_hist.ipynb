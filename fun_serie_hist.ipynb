{
  "nbformat": 4,
  "nbformat_minor": 0,
  "metadata": {
    "colab": {
      "provenance": []
    },
    "kernelspec": {
      "name": "python3",
      "display_name": "Python 3"
    },
    "language_info": {
      "name": "python"
    }
  },
  "cells": [
    {
      "cell_type": "code",
      "execution_count": null,
      "metadata": {
        "colab": {
          "base_uri": "https://localhost:8080/"
        },
        "id": "7WGFo5121VEB",
        "outputId": "75610189-13db-417f-a62f-8750246b504a"
      },
      "outputs": [
        {
          "output_type": "stream",
          "name": "stdout",
          "text": [
            "Mounted at /content/drive\n"
          ]
        }
      ],
      "source": [
        "import gc\n",
        "from google.colab import drive\n",
        "drive.mount('/content/drive', force_remount=True)\n",
        "%run \"/content/drive/My Drive/alpha_key.py\""
      ]
    },
    {
      "cell_type": "code",
      "source": [
        "import csv\n",
        "import requests\n",
        "\n",
        "import pandas as pd\n",
        "from datetime import date\n",
        "import numpy as np\n",
        "today=date.today()\n",
        "\n",
        "def getIntraSeries(symbol,interval,particion):\n",
        "    \n",
        "    CSV_URL = 'https://www.alphavantage.co/query?function=TIME_SERIES_INTRADAY_EXTENDED&symbol='+symbol+'&interval='+interval+'&slice='+particion+'&apikey= '+key()\n",
        "    \n",
        "    with requests.Session() as s:\n",
        "        download = s.get(CSV_URL)\n",
        "        decoded_content = download.content.decode('utf-8')\n",
        "        cr = csv.reader(decoded_content.splitlines(), delimiter=',')\n",
        "        my_list = list(cr)\n",
        "        \n",
        "    try: \n",
        "        df=pd.DataFrame(my_list)\n",
        "        df.columns=df.iloc[0,]\n",
        "        df.drop([0,1],axis=0,inplace=True)\n",
        "        df=df.set_index('time')\n",
        "        print(f'procesando activo:{symbol}'   )\n",
        "    except:\n",
        "        df=pd.DataFrame()\n",
        "\n",
        "  \n",
        "    \n",
        "    return df "
      ],
      "metadata": {
        "id": "VWlxqNd11XpK"
      },
      "execution_count": null,
      "outputs": []
    },
    {
      "cell_type": "code",
      "source": [],
      "metadata": {
        "id": "Otb67kgc1Xrp"
      },
      "execution_count": null,
      "outputs": []
    },
    {
      "cell_type": "code",
      "source": [],
      "metadata": {
        "id": "Gm58Aghu1XwA"
      },
      "execution_count": null,
      "outputs": []
    },
    {
      "cell_type": "code",
      "source": [],
      "metadata": {
        "id": "dSb9PExa1Xxc"
      },
      "execution_count": null,
      "outputs": []
    },
    {
      "cell_type": "code",
      "source": [],
      "metadata": {
        "id": "0XI1Agrf1X16"
      },
      "execution_count": null,
      "outputs": []
    }
  ]
}